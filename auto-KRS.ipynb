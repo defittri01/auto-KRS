{
 "cells": [
  {
   "cell_type": "code",
   "execution_count": 1,
   "metadata": {},
   "outputs": [],
   "source": [
    "from selenium import webdriver\n",
    "from selenium.webdriver.common.keys import Keys\n",
    "from selenium.webdriver.chrome.options import Options\n",
    "from selenium.webdriver.support.ui import WebDriverWait\n",
    "from selenium.webdriver.common.by import By\n",
    "from selenium.webdriver.support import expected_conditions as EC\n",
    "\n",
    "import os, glob, cv2, time\n",
    "import numpy as np\n",
    "import pytesseract\n",
    "from PIL import Image\n",
    "\n",
    "# pytesseract.pytesseract.tesseract_cmd = r\"D:\\Kuliah\\Semester 1\\Gamaforce\\Repo\\OCR-Python-master\\Tesseract\\tesseract.exe\"\n",
    "pytesseract.pytesseract.tesseract_cmd = r\"C:\\Program Files\\Tesseract-OCR\\tesseract.exe\"\n",
    "\n",
    "def get_string(img_path):\n",
    "    # Read image with opencv\n",
    "    img = cv2.imread(img_path)\n",
    "\n",
    "    # Convert to gray\n",
    "    img = cv2.cvtColor(img, cv2.COLOR_BGR2GRAY)\n",
    "\n",
    "    # Apply dilation and erosion to remove some noise\n",
    "    kernel = np.ones((1, 1), np.uint8)\n",
    "    img = cv2.dilate(img, kernel, iterations=1)\n",
    "    img = cv2.erode(img, kernel, iterations=1)\n",
    "\n",
    "    # Write image after removed noise\n",
    "    cv2.imwrite(\"removed_noise.png\", img)\n",
    "\n",
    "    #  Apply threshold to get image with only black and white\n",
    "    #img = cv2.adaptiveThreshold(img, 255, cv2.ADAPTIVE_THRESH_GAUSSIAN_C, cv2.THRESH_BINARY, 31, 2)\n",
    "\n",
    "    # Write the image after apply opencv to do some ...\n",
    "    cv2.imwrite(img_path, img)\n",
    "\n",
    "    # Recognize text with tesseract for python\n",
    "    result = pytesseract.image_to_string(Image.open(img_path))\n",
    "\n",
    "    # Remove template file\n",
    "    #os.remove(temp)\n",
    "\n",
    "    return result\n",
    "\n",
    "def captcha():\n",
    "    # web screenshot\n",
    "    output = 'output.png'\n",
    "    browser.save_screenshot(output)\n",
    "\n",
    "    # img to numpy array\n",
    "    capt = cv2.imread(output)\n",
    "    capt = np.array(capt)\n",
    "\n",
    "    # crop\n",
    "    capt_crop = capt[ 130:160, 780:865, :]\n",
    "    cv2.imwrite('output.png', capt_crop)\n",
    "    # plt.imshow(capt_crop)\n",
    "\n",
    "    # image to string OCR\n",
    "    capt_str = get_string('output.png')\n",
    "\n",
    "    # filter int from string\n",
    "    capt_num = ''\n",
    "    numbers = [str(word) for word in capt_str if word.isdigit()]\n",
    "    capt_num = capt_num.join(numbers)\n",
    "\n",
    "    # fill captcha\n",
    "    capt_form = browser.find_element_by_xpath('//*[@id=\"grid-input-2\"]')\n",
    "    capt_form.send_keys(capt_num)\n",
    "\n",
    "    # click submit buttom\n",
    "    submit_but = browser.find_element_by_xpath('//*[@id=\"f_captcha\"]/div[2]/div[1]/button[1]')\n",
    "    submit_but.click()\n",
    "\n",
    "    time.sleep(1)\n",
    "\n",
    "    # accept alert\n",
    "    alert = browser.switch_to.alert\n",
    "    alert.accept()\n",
    "\n",
    "\n"
   ]
  },
  {
   "cell_type": "markdown",
   "metadata": {},
   "source": [
    "Buka Chrome Webdriver"
   ]
  },
  {
   "cell_type": "code",
   "execution_count": null,
   "metadata": {},
   "outputs": [],
   "source": [
    "chrome_options = Options()\n",
    "chrome_options.binary_location  = \"C:\\Program Files (x86)\\Google\\Chrome\\Application\\chrome.exe\"\n",
    "browser = webdriver.Chrome(chrome_options = chrome_options, executable_path=r\"C:\\webdriver\\chromedriver_win32\\chromedriver.exe\")\n",
    "\n",
    "browser.get(\"https://simaster.ugm.ac.id\")"
   ]
  },
  {
   "cell_type": "markdown",
   "metadata": {},
   "source": [
    "Auto click + captcha solver"
   ]
  },
  {
   "cell_type": "code",
   "execution_count": null,
   "metadata": {},
   "outputs": [],
   "source": [
    "id = [['TKSS212202',2], ['TKSS212204',2], ['TKSS212207',2], ['TKSS212208',2], ['TKSS212209',2], ['TKSS213209',1]]\n",
    "\n",
    "while True:\n",
    "    for matkul, kelas in id:\n",
    "        print(matkul)\n",
    "\n",
    "        browser.execute_script(\"arguments[0].click();\", WebDriverWait(browser, 20).until(EC.element_to_be_clickable((By.XPATH, '//*[@id=\"8_{}\"]/table[1]/tbody[1]/tr[{}]/td[1]/input[1]'.format(matkul, kelas)))))\n",
    "        time.sleep(1)\n",
    "        captcha()\n",
    "\n",
    "        time.sleep(1)"
   ]
  },
  {
   "cell_type": "code",
   "execution_count": null,
   "metadata": {},
   "outputs": [],
   "source": [
    "# close chrome webdriver\n",
    "browser.close()"
   ]
  }
 ],
 "metadata": {
  "interpreter": {
   "hash": "e5ac1f5bf71e642e094ea2ff199f8d8b15d464d9dafcef45f80d80fbaa464bcc"
  },
  "kernelspec": {
   "display_name": "Python 3.9.1 64-bit",
   "name": "python3"
  },
  "language_info": {
   "codemirror_mode": {
    "name": "ipython",
    "version": 3
   },
   "file_extension": ".py",
   "mimetype": "text/x-python",
   "name": "python",
   "nbconvert_exporter": "python",
   "pygments_lexer": "ipython3",
   "version": "3.9.1"
  },
  "orig_nbformat": 4
 },
 "nbformat": 4,
 "nbformat_minor": 2
}
